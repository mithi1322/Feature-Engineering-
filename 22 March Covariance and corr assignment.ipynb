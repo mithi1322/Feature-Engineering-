{
 "cells": [
  {
   "cell_type": "markdown",
   "id": "49addbab-8521-452a-ad81-cd1d7aec61d6",
   "metadata": {},
   "source": [
    "Q1. Pearson correlation coefficient is a measure of the linear relationship between two variables. Suppose\n",
    "you have collected data on the amount of time students spend studying for an exam and their final exam\n",
    "scores. Calculate the Pearson correlation coefficient between these two variables and interpret the result."
   ]
  },
  {
   "cell_type": "code",
   "execution_count": 2,
   "id": "8db2d95b-ccd6-420c-9243-fe7dc0687c57",
   "metadata": {},
   "outputs": [
    {
     "data": {
      "text/plain": [
       "'\\nTo calculate the Pearson correlation coefficient between the time students spend studying for an exam and their final exam scores, we need to have a set of paired data, \\nwith each pair consisting of the amount of time spent studying and the corresponding exam score. Once we have the paired data,\\nwe can use the following formula to calculate the Pearson correlation coefficient:\\n\\nr = (nΣxy - ΣxΣy) / sqrt[(nΣx^2 - (Σx)^2)(nΣy^2 - (Σy)^2)]\\n\\nwhere:\\n        r is the Pearson correlation coefficient\\n        n is the number of pairs of data\\n        Σxy is the sum of the products of the corresponding values in each pair of data\\n        Σx and Σy are the sums of the x and y values, respectively\\n        Σx^2 and Σy^2 are the sums of the squared x and y values, respectively\\n        Once we calculate the value of r, we can interpret the result as follows:\\n\\nIf r is close to 1, it indicates a strong positive linear relationship between the two variables, meaning that as the amount of time spent studying increases, so does the exam score.\\nIf r is close to -1, it indicates a strong negative linear relationship between the two variables, meaning that as the amount of time spent studying increases, the exam score decreases.\\nIf r is close to 0, it indicates no linear relationship between the two variables, meaning that the amount of time spent studying does not affect the exam score.\\nIn practice, the interpretation of the Pearson correlation coefficient depends on the context of the data and the research question being asked.\\n'"
      ]
     },
     "execution_count": 2,
     "metadata": {},
     "output_type": "execute_result"
    }
   ],
   "source": [
    "# Answer:\n",
    "'''\n",
    "To calculate the Pearson correlation coefficient between the time students spend studying for an exam and their final exam scores, we need to have a set of paired data, \n",
    "with each pair consisting of the amount of time spent studying and the corresponding exam score. Once we have the paired data,\n",
    "we can use the following formula to calculate the Pearson correlation coefficient:\n",
    "\n",
    "r = (nΣxy - ΣxΣy) / sqrt[(nΣx^2 - (Σx)^2)(nΣy^2 - (Σy)^2)]\n",
    "\n",
    "where:\n",
    "        r is the Pearson correlation coefficient\n",
    "        n is the number of pairs of data\n",
    "        Σxy is the sum of the products of the corresponding values in each pair of data\n",
    "        Σx and Σy are the sums of the x and y values, respectively\n",
    "        Σx^2 and Σy^2 are the sums of the squared x and y values, respectively\n",
    "        Once we calculate the value of r, we can interpret the result as follows:\n",
    "\n",
    "If r is close to 1, it indicates a strong positive linear relationship between the two variables, meaning that as the amount of time spent studying increases, so does the exam score.\n",
    "If r is close to -1, it indicates a strong negative linear relationship between the two variables, meaning that as the amount of time spent studying increases, the exam score decreases.\n",
    "If r is close to 0, it indicates no linear relationship between the two variables, meaning that the amount of time spent studying does not affect the exam score.\n",
    "In practice, the interpretation of the Pearson correlation coefficient depends on the context of the data and the research question being asked.\n",
    "'''"
   ]
  },
  {
   "cell_type": "markdown",
   "id": "48bd1057-0535-44f2-956d-8d204264c2b3",
   "metadata": {},
   "source": [
    "Q2. Spearman's rank correlation is a measure of the monotonic relationship between two variables.\n",
    "Suppose you have collected data on the amount of sleep individuals get each night and their overall job\n",
    "satisfaction level on a scale of 1 to 10. Calculate the Spearman's rank correlation between these two\n",
    "variables and interpret the result."
   ]
  },
  {
   "cell_type": "code",
   "execution_count": 3,
   "id": "366213d6-6e5a-40da-9aa0-1a919dae5d9e",
   "metadata": {},
   "outputs": [
    {
     "data": {
      "text/plain": [
       "\"\\nSpearman's rank correlation coefficient, also known as Spearman's rho, is a non-parametric statistical measure that assesses the strength of the relationship between two variables. \\nIt measures the degree to which the relationship between two variables can be described by a monotonic function, which is a function that either consistently increases or decreases.\\n\\nTo calculate Spearman's rank correlation coefficient, we first need to rank the values of each variable. We then calculate the difference between the ranks of each pair of corresponding values, \\nand compute the sum of the squared differences. The correlation coefficient is then calculated using the following formula:\\n\\nrho = 1 - (6 * sum of squared differences / n(n^2 - 1))\\n\\nwhere n is the number of observations.\\n\""
      ]
     },
     "execution_count": 3,
     "metadata": {},
     "output_type": "execute_result"
    }
   ],
   "source": [
    "# Answer:\n",
    "'''\n",
    "Spearman's rank correlation coefficient, also known as Spearman's rho, is a non-parametric statistical measure that assesses the strength of the relationship between two variables. \n",
    "It measures the degree to which the relationship between two variables can be described by a monotonic function, which is a function that either consistently increases or decreases.\n",
    "\n",
    "To calculate Spearman's rank correlation coefficient, we first need to rank the values of each variable. We then calculate the difference between the ranks of each pair of corresponding values, \n",
    "and compute the sum of the squared differences. The correlation coefficient is then calculated using the following formula:\n",
    "\n",
    "rho = 1 - (6 * sum of squared differences / n(n^2 - 1))\n",
    "\n",
    "where n is the number of observations.\n",
    "'''"
   ]
  },
  {
   "cell_type": "markdown",
   "id": "f5be558e-6540-475f-8f10-d80093bd750e",
   "metadata": {},
   "source": [
    "Q3. Suppose you are conducting a study to examine the relationship between the number of hours of\n",
    "exercise per week and body mass index (BMI) in a sample of adults. You collected data on both variables\n",
    "for 50 participants. Calculate the Pearson correlation coefficient and the Spearman's rank correlation\n",
    "between these two variables and compare the results."
   ]
  },
  {
   "cell_type": "code",
   "execution_count": 4,
   "id": "9ef85ee7-2803-49be-b8d1-ece7339db6a9",
   "metadata": {},
   "outputs": [
    {
     "name": "stdout",
     "output_type": "stream",
     "text": [
      "Pearson correlation coefficient: -0.46609990667194173\n",
      "Spearman's rank correlation: -0.46976270925318003\n"
     ]
    }
   ],
   "source": [
    "import pandas as pd\n",
    "import scipy.stats as stats\n",
    "\n",
    "df = pd.DataFrame({\n",
    "    'exercise_hours': [3, 5, 2, 6, 4, 7, 1, 5, 2, 4, 6, 3, 1, 7, 2, 5, 3, 4, 6, 1, 2, 4, 6, 7, 3,\n",
    "                       5, 2, 6, 4, 7, 1, 5, 2, 4, 6, 3, 1, 7, 2, 5, 3, 4, 6, 1, 2, 4, 6, 7, 3, 5],\n",
    "    'bmi': [25, 23, 30, 20, 27, 22, 32, 24, 29, 26, 19, 28, 31, 21, 33, 23, 25, 27, 20, 31,\n",
    "            29, 26, 19, 28, 32, 24, 30, 21, 33, 23, 25, 27, 20, 31, 29, 26, 19, 28, 31, 21,\n",
    "            33, 23, 25, 27, 20, 29, 26, 19, 28, 23]\n",
    "})\n",
    "\n",
    "# calculate Pearson correlation coefficient\n",
    "pearson_corr = df['exercise_hours'].corr(df['bmi'], method='pearson')\n",
    "print('Pearson correlation coefficient:', pearson_corr)\n",
    "\n",
    "# calculate Spearman's rank correlation\n",
    "spearman_corr = df['exercise_hours'].corr(df['bmi'], method='spearman')\n",
    "print('Spearman\\'s rank correlation:', spearman_corr)\n"
   ]
  },
  {
   "cell_type": "markdown",
   "id": "4f7da2ce-9571-41b7-9633-c5fa59b05d82",
   "metadata": {},
   "source": [
    "Q4. A researcher is interested in examining the relationship between the number of hours individuals\n",
    "spend watching television per day and their level of physical activity. The researcher collected data on\n",
    "both variables from a sample of 50 participants. Calculate the Pearson correlation coefficient between\n",
    "these two variables."
   ]
  },
  {
   "cell_type": "code",
   "execution_count": 5,
   "id": "ec6e3e90-6a14-4caf-a1b0-68a2a0230506",
   "metadata": {},
   "outputs": [
    {
     "name": "stdout",
     "output_type": "stream",
     "text": [
      "Pearson correlation coefficient: 0.9745453392765049\n"
     ]
    }
   ],
   "source": [
    "import pandas as pd\n",
    "\n",
    "df = pd.DataFrame({\n",
    "    'tv_hours': [2, 4, 3, 5, 6, 2, 1, 4, 2, 3, 5, 6, 1, 3, 4, 2, 5, 6, 1, 3,\n",
    "                 2, 4, 5, 6, 1, 3, 4, 2, 5, 6, 1, 3, 2, 4, 5, 6, 1, 3, 4, 2,\n",
    "                 5, 6, 1, 3, 2, 4, 5, 6, 1, 3],\n",
    "    'activity_level': [3, 5, 4, 6, 7, 2, 1, 4, 3, 4, 6, 7, 1, 3, 5, 2, 6, 7, 1, 4,\n",
    "                       3, 5, 6, 7, 1, 4, 5, 2, 7, 6, 1, 4, 3, 5, 7, 6, 1, 4, 5, 2,\n",
    "                       6, 7, 1, 4, 3, 5, 6, 7, 1, 4]\n",
    "})\n",
    "\n",
    "# calculate Pearson correlation coefficient\n",
    "pearson_corr = df['tv_hours'].corr(df['activity_level'], method='pearson')\n",
    "print('Pearson correlation coefficient:', pearson_corr)\n"
   ]
  },
  {
   "cell_type": "markdown",
   "id": "2158cc9f-86ce-4ecf-a164-89766097c70c",
   "metadata": {},
   "source": [
    "Q5. A survey was conducted to examine the relationship between age and preference for a particular\n",
    "brand of soft drink. The survey results are shown below:\n",
    "    \n",
    "Age(Years)        Soft drink Preference\n",
    "25                      Coke\n",
    "42                      Pepsi\n",
    "37                      Mountain dew\n",
    "19                      Coke                     \n",
    "31                      Pepsi\n",
    "28                      Coke"
   ]
  },
  {
   "cell_type": "code",
   "execution_count": 6,
   "id": "2d3cfdfa-030c-4b90-84a9-f364806b080d",
   "metadata": {},
   "outputs": [
    {
     "data": {
      "text/plain": [
       "'\\nThe data provided in the question is not sufficient to calculate any correlation coefficient between age and soft drink preference.\\n\\nCorrelation coefficients can only be calculated for numerical variables, but \"soft drink preference\" is a categorical variable. \\nTo calculate a correlation coefficient between age and soft drink preference, the preference variable would need to be converted to numerical values (e.g. 1 for Coke, 2 for Pepsi, 3 for Mountain Dew). \\nAdditionally, more data points would be needed to determine if there is a relationship between age and soft drink preference.\\n'"
      ]
     },
     "execution_count": 6,
     "metadata": {},
     "output_type": "execute_result"
    }
   ],
   "source": [
    "# Answer:\n",
    "'''\n",
    "The data provided in the question is not sufficient to calculate any correlation coefficient between age and soft drink preference.\n",
    "\n",
    "Correlation coefficients can only be calculated for numerical variables, but \"soft drink preference\" is a categorical variable. \n",
    "To calculate a correlation coefficient between age and soft drink preference, the preference variable would need to be converted to numerical values (e.g. 1 for Coke, 2 for Pepsi, 3 for Mountain Dew). \n",
    "Additionally, more data points would be needed to determine if there is a relationship between age and soft drink preference.\n",
    "'''"
   ]
  },
  {
   "cell_type": "markdown",
   "id": "59b77d0b-1e9f-4dd7-bba4-947833e57af4",
   "metadata": {},
   "source": [
    "Q6. A company is interested in examining the relationship between the number of sales calls made per day\n",
    "and the number of sales made per week. The company collected data on both variables from a sample of\n",
    "30 sales representatives. Calculate the Pearson correlation coefficient between these two variables."
   ]
  },
  {
   "cell_type": "code",
   "execution_count": 9,
   "id": "534241e8-aa83-4bfb-a008-ca39ee81155d",
   "metadata": {},
   "outputs": [
    {
     "name": "stdout",
     "output_type": "stream",
     "text": [
      "Pearson correlation coefficient: 0.9504186484602376\n"
     ]
    }
   ],
   "source": [
    "import pandas as pd\n",
    "import numpy as np\n",
    "\n",
    "data = {'Sales Calls': [50, 60, 70, 40, 80, 50, 70, 60, 50, 30, 60, 80, 70, 40, 50, 60, 70, 80, 50, 60, 70, 40, 30, 80, 50, 60, 70, 40, 50, 60],\n",
    "        'Sales': [10, 15, 12, 5, 18, 9, 11, 12, 7, 3, 10, 16, 14, 6, 8, 11, 13, 17, 9, 12, 15, 5, 2, 20, 7, 12, 14, 6, 8, 10]}\n",
    "df = pd.DataFrame(data)\n",
    "\n",
    "# calculate Pearson correlation coefficient\n",
    "r = np.corrcoef(df['Sales Calls'], df['Sales'])[0, 1]\n",
    "print('Pearson correlation coefficient:', r)\n"
   ]
  },
  {
   "cell_type": "code",
   "execution_count": null,
   "id": "14618ba3-4d7e-4654-a423-bf7e9158f8cb",
   "metadata": {},
   "outputs": [],
   "source": []
  }
 ],
 "metadata": {
  "kernelspec": {
   "display_name": "Python 3 (ipykernel)",
   "language": "python",
   "name": "python3"
  },
  "language_info": {
   "codemirror_mode": {
    "name": "ipython",
    "version": 3
   },
   "file_extension": ".py",
   "mimetype": "text/x-python",
   "name": "python",
   "nbconvert_exporter": "python",
   "pygments_lexer": "ipython3",
   "version": "3.10.8"
  }
 },
 "nbformat": 4,
 "nbformat_minor": 5
}
