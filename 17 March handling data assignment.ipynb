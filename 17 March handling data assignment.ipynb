{
 "cells": [
  {
   "cell_type": "markdown",
   "id": "4bfe46bf-7d47-40ae-9e4b-c83a517fe387",
   "metadata": {},
   "source": [
    "Q1: What are missing values in a dataset? Why is it essential to handle missing values? Name some\n",
    "algorithms that are not affected by missing values."
   ]
  },
  {
   "cell_type": "code",
   "execution_count": null,
   "id": "2674b4b0-e110-4907-b6e7-87ad44185ee1",
   "metadata": {},
   "outputs": [],
   "source": [
    "# Answer:\n",
    "'''\n",
    "Missing values in a dataset refer to the absence of a value for a variable in an observation. Handling missing values is important because most machine learning algorithms cannot handle missing values, \n",
    "and missing values can cause bias and errors in the analysis. Some algorithms that are not affected by missing values include Decision Trees, Random Forests, and Naive Bayes.\n",
    "'''"
   ]
  },
  {
   "cell_type": "markdown",
   "id": "8a1946a7-7017-4740-9bf5-bdc5ec6f46b6",
   "metadata": {},
   "source": [
    "Q2: List down techniques used to handle missing data. Give an example of each with python code."
   ]
  },
  {
   "cell_type": "code",
   "execution_count": 2,
   "id": "5f8486a0-0470-4cbf-aabe-7bb389bbb116",
   "metadata": {},
   "outputs": [
    {
     "name": "stdout",
     "output_type": "stream",
     "text": [
      "     A      B\n",
      "0  1.0   6.00\n",
      "1  2.0   7.00\n",
      "2  3.0   8.00\n",
      "3  4.0   7.75\n",
      "4  5.0  10.00\n"
     ]
    }
   ],
   "source": [
    "# Answer:\n",
    "'''\n",
    "Some techniques to handle missing data include:\n",
    "\n",
    "1. Removing rows with missing data: This can be done using the dropna() method in pandas.\n",
    "2. Replacing missing values with mean or median values: This can be done using the fillna() method in pandas.\n",
    "3. Using interpolation: This can be done using the interpolate() method in pandas.\n",
    "'''\n",
    "# Example code for replacing missing values with mean:\n",
    "\n",
    "import pandas as pd\n",
    "import numpy as np\n",
    "\n",
    "# create a dataframe with missing values\n",
    "df = pd.DataFrame({'A': [1, 2, np.nan, 4, 5], 'B': [6, 7, 8, np.nan, 10]})\n",
    "\n",
    "# replace missing values with mean\n",
    "df.fillna(df.mean(), inplace=True)\n",
    "\n",
    "# display the dataframe\n",
    "print(df)\n"
   ]
  },
  {
   "cell_type": "markdown",
   "id": "361acb9d-24e7-4055-b0a1-d65c9e9973a3",
   "metadata": {},
   "source": [
    "Q3: Explain the imbalanced data. What will happen if imbalanced data is not handled?"
   ]
  },
  {
   "cell_type": "code",
   "execution_count": null,
   "id": "0ad0ffcb-047a-40ab-8036-7d7b4062510b",
   "metadata": {},
   "outputs": [],
   "source": [
    "# Answer:\n",
    "'''\n",
    "Imbalanced data refers to a situation where the classes in the target variable are not represented equally. If imbalanced data is not handled, \n",
    "the model will be biased towards the majority class, leading to poor performance in predicting the minority class.\n",
    "'''"
   ]
  },
  {
   "cell_type": "markdown",
   "id": "f91a1c17-9aee-4428-8750-9a5ed5358eeb",
   "metadata": {},
   "source": [
    "Q4: What are Up-sampling and Down-sampling? Explain with an example when up-sampling and down-\n",
    "sampling are required."
   ]
  },
  {
   "cell_type": "code",
   "execution_count": null,
   "id": "e7e886a1-8f4e-4337-abe0-aded31a75c9c",
   "metadata": {},
   "outputs": [],
   "source": [
    "# Answer:\n",
    "'''\n",
    "Up-sampling involves increasing the number of instances in the minority class, while down-sampling involves decreasing the number of instances in the majority class. \n",
    "Up-sampling can be used when the minority class is important, while down-sampling can be used when there is a large amount of data and the majority class is not very important.\n",
    "\n",
    "For example, \n",
    "if we have a dataset with 100 instances, of which 90 are in the majority class and 10 are in the minority class, we can up-sample the minority class by duplicating \n",
    "instances to increase the number of instances to 90, making the dataset balanced. Alternatively, we can down-sample the majority class by randomly removing \n",
    "instances to decrease the number of instances to 10, making the dataset balanced.\n",
    "'''"
   ]
  },
  {
   "cell_type": "markdown",
   "id": "92387416-823c-4f06-bafa-680c64b40dec",
   "metadata": {},
   "source": [
    "Q5: What is data Augmentation? Explain MOTE."
   ]
  },
  {
   "cell_type": "code",
   "execution_count": null,
   "id": "81d003fe-e93b-464c-8515-7dc4961c9ecd",
   "metadata": {},
   "outputs": [],
   "source": [
    "# Answer:\n",
    "'''\n",
    "Data augmentation refers to the process of creating new data by applying transformations to the existing data. SMOTE (Synthetic Minority Over-sampling Technique) \n",
    "is a technique used in data augmentation to create synthetic samples for the minority class by interpolating between existing instances. This can be done using the imblearn package in python.\n",
    "'''"
   ]
  },
  {
   "cell_type": "markdown",
   "id": "438177b6-0c91-4a60-9d92-9797095869a0",
   "metadata": {},
   "source": [
    "Q6: What are outliers in a dataset? Why is it essential to handle outliers?"
   ]
  },
  {
   "cell_type": "code",
   "execution_count": null,
   "id": "906c0329-9590-49b4-9d41-7775ca0218af",
   "metadata": {},
   "outputs": [],
   "source": [
    "# Answer:\n",
    "'''\n",
    "Outliers in a dataset are values that are significantly different from the other values in the dataset. Handling outliers is important because they can distort the\n",
    "analysis and lead to incorrect conclusions. Outliers can be handled by removing them, transforming them, or using robust statistical methods.\n",
    "'''"
   ]
  },
  {
   "cell_type": "markdown",
   "id": "8869a620-11c7-4383-9f9d-cbb0efb396c8",
   "metadata": {},
   "source": [
    "Q7: You are working on a project that requires analyzing customer data. However, you notice that some of\n",
    "the data is missing. What are some techniques you can use to handle the missing data in your analysis?"
   ]
  },
  {
   "cell_type": "code",
   "execution_count": null,
   "id": "23bb3297-1fa6-4daf-bb0a-ca1c83079417",
   "metadata": {},
   "outputs": [],
   "source": [
    "# Answer:\n",
    "'''\n",
    "Some techniques that can be used to handle missing data in analysis include imputing missing data with mean or median values, using interpolation to fill missing data, \n",
    "or removing rows with missing data.\n",
    "'''"
   ]
  },
  {
   "cell_type": "markdown",
   "id": "c543a87a-b923-426c-a30d-0771c09f8af9",
   "metadata": {},
   "source": [
    "Q8: You are working with a large dataset and find that a small percentage of the data is missing. What are\n",
    "some strategies you can use to determine if the missing data is missing at random or if there is a pattern\n",
    "to the missing data?"
   ]
  },
  {
   "cell_type": "code",
   "execution_count": null,
   "id": "5bf07554-0806-4d9d-9924-6875e5f70f32",
   "metadata": {},
   "outputs": [],
   "source": [
    "# Answer:\n",
    "'''\n",
    "To determine if missing data is missing at random or if there is a pattern to the missing data, we can use techniques such as visualizing missing data using heatmaps, \n",
    "checking the correlation between missing values and other variables, or using statistical tests to compare the characteristics of observations with and without missing data.\n",
    "'''"
   ]
  },
  {
   "cell_type": "markdown",
   "id": "30eba765-1435-48c7-9147-65bf512a3eb4",
   "metadata": {},
   "source": [
    "Q9: Suppose you are working on a medical diagnosis project and find that the majority of patients in the\n",
    "dataset do not have the condition of interest, while a small percentage do. What are some strategies you\n",
    "can use to evaluate the performance of your machine learning model on this imbalanced dataset?"
   ]
  },
  {
   "cell_type": "code",
   "execution_count": null,
   "id": "46aa8f71-75e1-4b04-9327-2e1ba333d0ca",
   "metadata": {},
   "outputs": [],
   "source": [
    "# Answer:\n",
    "'''\n",
    "Strategies that can be used to evaluate the performance of a machine learning model on an imbalanced dataset include using metrics such as precision, recall, and F1-score, \n",
    "using resampling techniques such as up-sampling the minority class or down-sampling the majority class, or using ensemble techniques such as bagging and boosting.\n",
    "'''"
   ]
  },
  {
   "cell_type": "markdown",
   "id": "c1de6676-d413-417a-a459-432ac4e9a821",
   "metadata": {},
   "source": [
    "Q10: When attempting to estimate customer satisfaction for a project, you discover that the dataset is\n",
    "unbalanced, with the bulk of customers reporting being satisfied. What methods can you employ to\n",
    "balance the dataset and down-sample the majority class?"
   ]
  },
  {
   "cell_type": "code",
   "execution_count": null,
   "id": "0beeb642-19e9-4bcf-bd4a-d5d88d49c4a4",
   "metadata": {},
   "outputs": [],
   "source": [
    "# Answer:\n",
    "'''\n",
    "When dealing with an imbalanced dataset where the majority class is overrepresented, downsampling can be used to balance the dataset. \n",
    "Here are some methods that can be employed to down-sample the majority class:\n",
    "\n",
    "1. Random Under-Sampling: In this method, random samples are removed from the majority class to reduce its size to that of the minority class.\n",
    "\n",
    "2. Tomek Links: Tomek Links are pairs of instances that are closest to each other, but belong to different classes. In this method, \n",
    "instances from the majority class that form Tomek Links with instances from the minority class are removed.\n",
    "\n",
    "3. Cluster Centroids: In this method, the K-means clustering algorithm is used to identify centroids for each class. For the majority class, \n",
    "instances that are farthest away from the centroid are removed.\n",
    "'''"
   ]
  },
  {
   "cell_type": "markdown",
   "id": "c29680f5-e1a4-4ee0-a890-458b1316e3be",
   "metadata": {},
   "source": [
    "Q11: You discover that the dataset is unbalanced with a low percentage of occurrences while working on a\n",
    "project that requires you to estimate the occurrence of a rare event. What methods can you employ to\n",
    "balance the dataset and up-sample the minority class?"
   ]
  },
  {
   "cell_type": "code",
   "execution_count": null,
   "id": "256f0575-9b90-4411-bee2-3eb2ffdf4a31",
   "metadata": {},
   "outputs": [],
   "source": [
    "# Answer:\n",
    "'''\n",
    "When working with a dataset that has a low percentage of occurrences of a rare event, the dataset is said to be imbalanced.\n",
    "In this case, we can use up-sampling techniques to balance the dataset. Some of the popular up-sampling techniques are:\n",
    "\n",
    "1. Random over-sampling: In this technique, we randomly duplicate samples from the minority class to balance the dataset. \n",
    "    This method can lead to overfitting as the same samples are present in both the training and testing datasets.\n",
    "\n",
    "2. SMOTE (Synthetic Minority Over-sampling Technique): This method creates synthetic samples of the minority class by finding the k-nearest neighbors and generating new samples between them. \n",
    "    This method is less prone to overfitting than random over-sampling.\n",
    "\n",
    "3. ADASYN (Adaptive Synthetic Sampling): This method generates synthetic samples of the minority class in a way that emphasizes the samples that are harder to learn. \n",
    "    This method is also less prone to overfitting.\n",
    "'''"
   ]
  },
  {
   "cell_type": "code",
   "execution_count": null,
   "id": "16045b66-ab00-489e-89be-7f5f66a4de3d",
   "metadata": {},
   "outputs": [],
   "source": []
  }
 ],
 "metadata": {
  "kernelspec": {
   "display_name": "Python 3 (ipykernel)",
   "language": "python",
   "name": "python3"
  },
  "language_info": {
   "codemirror_mode": {
    "name": "ipython",
    "version": 3
   },
   "file_extension": ".py",
   "mimetype": "text/x-python",
   "name": "python",
   "nbconvert_exporter": "python",
   "pygments_lexer": "ipython3",
   "version": "3.10.8"
  }
 },
 "nbformat": 4,
 "nbformat_minor": 5
}
