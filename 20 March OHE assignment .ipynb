{
 "cells": [
  {
   "cell_type": "markdown",
   "id": "f5f1708a-67f9-4360-af03-e808992166fb",
   "metadata": {},
   "source": [
    "Q1. What is data encoding? How is it useful in data science?"
   ]
  },
  {
   "cell_type": "code",
   "execution_count": 7,
   "id": "736c9b02-eeb3-49f6-a55b-5504a2c9fa88",
   "metadata": {},
   "outputs": [
    {
     "data": {
      "text/plain": [
       "'\\nData encoding is the process of transforming categorical data into numerical data to make it suitable for analysis by machine learning algorithms. \\nIt is useful in data science because most machine learning algorithms require numerical inputs.\\n'"
      ]
     },
     "execution_count": 7,
     "metadata": {},
     "output_type": "execute_result"
    }
   ],
   "source": [
    "# Answer:\n",
    "'''\n",
    "Data encoding is the process of transforming categorical data into numerical data to make it suitable for analysis by machine learning algorithms. \n",
    "It is useful in data science because most machine learning algorithms require numerical inputs.\n",
    "'''"
   ]
  },
  {
   "cell_type": "markdown",
   "id": "412409ea-396f-4598-b3df-c45681d4b3ac",
   "metadata": {},
   "source": [
    "Q2. What is nominal encoding? Provide an example of how you would use it in a real-world scenario."
   ]
  },
  {
   "cell_type": "code",
   "execution_count": null,
   "id": "0bf70381-3667-4e8e-8d4d-994a6705e2e4",
   "metadata": {},
   "outputs": [],
   "source": [
    "# Answer:\n",
    "'''\n",
    "Nominal encoding is a technique used to encode categorical variables that have no particular order or hierarchy between them. In nominal encoding, each unique category is assigned a unique integer value.\n",
    "'''\n",
    "\n",
    "# Example:\n",
    "\n",
    "from sklearn.preprocessing import LabelEncoder\n",
    "fruits = ['apple', 'banana', 'orange', 'banana', 'apple']\n",
    "encoder = LabelEncoder()  # Creating an instance of the LabelEncoder\n",
    "encoded_fruits = encoder.fit_transform(fruits)  # Encoding the categorical data\n",
    "print(encoded_fruits)\n"
   ]
  },
  {
   "cell_type": "markdown",
   "id": "713fd94a-e487-417d-9d30-d1927ffeba2f",
   "metadata": {},
   "source": [
    "Q3. In what situations is nominal encoding preferred over one-hot encoding? Provide a practical example."
   ]
  },
  {
   "cell_type": "code",
   "execution_count": 2,
   "id": "73b87bcc-8384-4c97-808a-d860ad6b5a02",
   "metadata": {},
   "outputs": [
    {
     "data": {
      "text/plain": [
       "'\\nNominal encoding is preferred over one-hot encoding when the categorical variable has a large number of unique values. One-hot encoding can lead to a significant increase in the number of features,\\nwhich can cause issues with memory and computation time, especially when working with large datasets.\\n\\nA practical example of when nominal encoding might be preferred over one-hot encoding is in the case of customer IDs. If a dataset contains a large number of unique customer IDs, \\none-hot encoding would lead to the creation of a large number of new features, which could cause issues with memory and computation time. \\nIn this case, nominal encoding could be used to assign a unique numerical value to each customer ID, which could then be used as a feature in machine learning algorithms.\\n'"
      ]
     },
     "execution_count": 2,
     "metadata": {},
     "output_type": "execute_result"
    }
   ],
   "source": [
    "# Answer:\n",
    "'''\n",
    "Nominal encoding is preferred over one-hot encoding when the categorical variable has a large number of unique values. One-hot encoding can lead to a significant increase in the number of features,\n",
    "which can cause issues with memory and computation time, especially when working with large datasets.\n",
    "\n",
    "A practical example of when nominal encoding might be preferred over one-hot encoding is in the case of customer IDs. If a dataset contains a large number of unique customer IDs, \n",
    "one-hot encoding would lead to the creation of a large number of new features, which could cause issues with memory and computation time. \n",
    "In this case, nominal encoding could be used to assign a unique numerical value to each customer ID, which could then be used as a feature in machine learning algorithms.\n",
    "'''"
   ]
  },
  {
   "cell_type": "markdown",
   "id": "670285f2-3474-4728-85e6-a261487d5202",
   "metadata": {},
   "source": [
    "Q4. Suppose you have a dataset containing categorical data with 5 unique values. Which encoding\n",
    "technique would you use to transform this data into a format suitable for machine learning algorithms?\n",
    "Explain why you made this choice."
   ]
  },
  {
   "cell_type": "code",
   "execution_count": 3,
   "id": "6026eec7-1bb5-4490-809d-f3817941ace4",
   "metadata": {},
   "outputs": [
    {
     "data": {
      "text/plain": [
       "'\\nIf the categorical data has 5 unique values, I would use nominal encoding to transform the data into a format suitable for machine learning algorithms. \\nNominal encoding assigns a unique integer value to each category and hence it is useful when we have a small number of categories. In this case, we have only 5 unique values, \\nand nominal encoding would be a suitable technique to use.\\n'"
      ]
     },
     "execution_count": 3,
     "metadata": {},
     "output_type": "execute_result"
    }
   ],
   "source": [
    "# Answer:\n",
    "'''\n",
    "If the categorical data has 5 unique values, I would use nominal encoding to transform the data into a format suitable for machine learning algorithms. \n",
    "Nominal encoding assigns a unique integer value to each category and hence it is useful when we have a small number of categories. In this case, we have only 5 unique values, \n",
    "and nominal encoding would be a suitable technique to use.\n",
    "'''\n"
   ]
  },
  {
   "cell_type": "markdown",
   "id": "c81172ba-bb4f-41e4-8fe0-e00ec7e00357",
   "metadata": {},
   "source": [
    "Q5. In a machine learning project, you have a dataset with 1000 rows and 5 columns. Two of the columns\n",
    "are categorical, and the remaining three columns are numerical. If you were to use nominal encoding to\n",
    "transform the categorical data, how many new columns would be created? Show your calculations."
   ]
  },
  {
   "cell_type": "code",
   "execution_count": 4,
   "id": "75523acf-03da-4591-9c0b-d3e358e90d25",
   "metadata": {},
   "outputs": [
    {
     "data": {
      "text/plain": [
       "\"\\nIf we use nominal encoding to transform the categorical data, we would create a new column for each unique value in the categorical columns.\\n\\nLet's say the first categorical column has 4 unique values and the second categorical column has 5 unique values. Then, after nominal encoding, we would create 4 + 5 = 9 new columns.\\n\\nSo the total number of columns in the transformed dataset would be 5 (original numerical columns) + 9 (new nominal encoded columns) = 14 columns.\\n\""
      ]
     },
     "execution_count": 4,
     "metadata": {},
     "output_type": "execute_result"
    }
   ],
   "source": [
    "# Answer:\n",
    "'''\n",
    "If we use nominal encoding to transform the categorical data, we would create a new column for each unique value in the categorical columns.\n",
    "\n",
    "Let's say the first categorical column has 4 unique values and the second categorical column has 5 unique values. Then, after nominal encoding, we would create 4 + 5 = 9 new columns.\n",
    "\n",
    "So the total number of columns in the transformed dataset would be 5 (original numerical columns) + 9 (new nominal encoded columns) = 14 columns.\n",
    "'''"
   ]
  },
  {
   "cell_type": "markdown",
   "id": "41bbe007-c80b-445f-a54c-0deffbe182ef",
   "metadata": {},
   "source": [
    "Q6. You are working with a dataset containing information about different types of animals, including their\n",
    "species, habitat, and diet. Which encoding technique would you use to transform the categorical data into\n",
    "a format suitable for machine learning algorithms? Justify your answer."
   ]
  },
  {
   "cell_type": "code",
   "execution_count": 5,
   "id": "28d32eb0-1002-437f-92b8-b968dbb859d6",
   "metadata": {},
   "outputs": [
    {
     "data": {
      "text/plain": [
       "'\\nFor this scenario, I would use one-hot encoding to transform the categorical data into a format suitable for machine learning algorithms. \\nThe reason for this is that the categorical variables (species, habitat, and diet) have no inherent order or ranking, and their values are not numerical. \\nOne-hot encoding will create a binary column for each unique value in the categorical variable, which allows the machine learning algorithm to treat each category as a separate feature,\\nwithout implying any ordinal or interval relationship between the categories.\\n'"
      ]
     },
     "execution_count": 5,
     "metadata": {},
     "output_type": "execute_result"
    }
   ],
   "source": [
    "# Answer:\n",
    "'''\n",
    "For this scenario, I would use one-hot encoding to transform the categorical data into a format suitable for machine learning algorithms. \n",
    "The reason for this is that the categorical variables (species, habitat, and diet) have no inherent order or ranking, and their values are not numerical. \n",
    "One-hot encoding will create a binary column for each unique value in the categorical variable, which allows the machine learning algorithm to treat each category as a separate feature,\n",
    "without implying any ordinal or interval relationship between the categories.\n",
    "'''"
   ]
  },
  {
   "cell_type": "markdown",
   "id": "a57c973f-9962-468a-8ebe-eeb52311e685",
   "metadata": {},
   "source": [
    "Q7.You are working on a project that involves predicting customer churn for a telecommunications\n",
    "company. You have a dataset with 5 features, including the customer's gender, age, contract type,\n",
    "monthly charges, and tenure. Which encoding technique(s) would you use to transform the categorical\n",
    "data into numerical data? Provide a step-by-step explanation of how you would implement the encoding."
   ]
  },
  {
   "cell_type": "code",
   "execution_count": 6,
   "id": "acc347ad-e879-4752-b4db-32db53581116",
   "metadata": {},
   "outputs": [
    {
     "data": {
      "text/plain": [
       "'\\nFor this dataset, we have two categorical features: gender and contract type. We can use binary encoding to transform them into numerical data.\\n\\nHere are the steps to implement binary encoding:\\n\\n1. Import the necessary libraries: pandas, category_encoders.\\n2. Load the dataset into a pandas DataFrame.\\n3. Use category_encoders to create a BinaryEncoder instance.\\n4. Fit the encoder to the categorical columns of the DataFrame.\\n5. Use the encoder to transform the categorical columns into numerical data.\\n6. Replace the original categorical columns with the transformed numerical columns.\\n'"
      ]
     },
     "execution_count": 6,
     "metadata": {},
     "output_type": "execute_result"
    }
   ],
   "source": [
    "# Answer:\n",
    "'''\n",
    "For this dataset, we have two categorical features: gender and contract type. We can use binary encoding to transform them into numerical data.\n",
    "\n",
    "Here are the steps to implement binary encoding:\n",
    "\n",
    "1. Import the necessary libraries: pandas, category_encoders.\n",
    "2. Load the dataset into a pandas DataFrame.\n",
    "3. Use category_encoders to create a BinaryEncoder instance.\n",
    "4. Fit the encoder to the categorical columns of the DataFrame.\n",
    "5. Use the encoder to transform the categorical columns into numerical data.\n",
    "6. Replace the original categorical columns with the transformed numerical columns.\n",
    "'''"
   ]
  },
  {
   "cell_type": "code",
   "execution_count": null,
   "id": "5f995456-a448-4bde-adb6-18c0245afa74",
   "metadata": {},
   "outputs": [],
   "source": []
  }
 ],
 "metadata": {
  "kernelspec": {
   "display_name": "Python 3 (ipykernel)",
   "language": "python",
   "name": "python3"
  },
  "language_info": {
   "codemirror_mode": {
    "name": "ipython",
    "version": 3
   },
   "file_extension": ".py",
   "mimetype": "text/x-python",
   "name": "python",
   "nbconvert_exporter": "python",
   "pygments_lexer": "ipython3",
   "version": "3.10.8"
  }
 },
 "nbformat": 4,
 "nbformat_minor": 5
}
