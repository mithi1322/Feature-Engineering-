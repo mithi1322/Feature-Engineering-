{
 "cells": [
  {
   "cell_type": "markdown",
   "id": "3eded998-5f24-48d1-bcf2-1aeb675d72b8",
   "metadata": {},
   "source": [
    "Q1. What is the difference between Ordinal Encoding and Label Encoding? Provide an example of when you\n",
    "might choose one over the other."
   ]
  },
  {
   "cell_type": "code",
   "execution_count": 4,
   "id": "757e66cf-067f-4dc8-964a-a894780b89b9",
   "metadata": {},
   "outputs": [
    {
     "data": {
      "text/plain": [
       "'\\nOrdinal Encoding and Label Encoding are both techniques used to transform categorical data into numerical data for machine learning algorithms. \\nThe main difference between them is that Ordinal Encoding assigns a numerical value to each category based on its order or rank, while Label Encoding \\nassigns a unique numerical value to each category without considering any order or rank.\\n\\nFor example, suppose you have a dataset containing information about the size of T-shirts, with categories Small, Medium, and Large. \\nIn Ordinal Encoding, the categories would be assigned numerical values 1, 2, and 3, respectively, based on their order. In Label Encoding, t\\nhe categories would be assigned arbitrary numerical values, such as Small=0, Medium=1, and Large=2.\\n'"
      ]
     },
     "execution_count": 4,
     "metadata": {},
     "output_type": "execute_result"
    }
   ],
   "source": [
    "# Answer:\n",
    "'''\n",
    "Ordinal Encoding and Label Encoding are both techniques used to transform categorical data into numerical data for machine learning algorithms. \n",
    "The main difference between them is that Ordinal Encoding assigns a numerical value to each category based on its order or rank, while Label Encoding \n",
    "assigns a unique numerical value to each category without considering any order or rank.\n",
    "\n",
    "For example, suppose you have a dataset containing information about the size of T-shirts, with categories Small, Medium, and Large. \n",
    "In Ordinal Encoding, the categories would be assigned numerical values 1, 2, and 3, respectively, based on their order. In Label Encoding, t\n",
    "he categories would be assigned arbitrary numerical values, such as Small=0, Medium=1, and Large=2.\n",
    "'''"
   ]
  },
  {
   "cell_type": "markdown",
   "id": "7e941f47-adf2-4ecd-95a5-12eea3d4b15b",
   "metadata": {},
   "source": [
    "Q2. Explain how Target Guided Ordinal Encoding works and provide an example of when you might use it in\n",
    "a machine learning project."
   ]
  },
  {
   "cell_type": "code",
   "execution_count": 5,
   "id": "ffdb0b9c-7c91-4a5c-a3bc-aa5bde303bbe",
   "metadata": {},
   "outputs": [
    {
     "data": {
      "text/plain": [
       "'\\nTarget Guided Ordinal Encoding is a technique used to encode categorical variables based on their relationship with the target variable. \\nIt involves assigning numerical values to each category based on the mean of the target variable for that category. \\nThis can be useful when the categorical variable has a significant impact on the target variable and when other encoding techniques like One-Hot Encoding or Label Encoding may not be appropriate.\\n\\nFor example, suppose you have a dataset containing information about student performance, including a categorical variable \"Education Level\" with categories High School, Bachelor\\'s, and Master\\'s. \\nYou want to predict whether a student will graduate on time based on their education level. Instead of using One-Hot Encoding or Label Encoding, you could use Target Guided Ordinal Encoding, \\nwhere the categories are assigned numerical values based on the mean graduation rate for each education level. The higher the mean graduation rate for a category, \\nthe higher the numerical value assigned to that category.\\n'"
      ]
     },
     "execution_count": 5,
     "metadata": {},
     "output_type": "execute_result"
    }
   ],
   "source": [
    "# Answer:\n",
    "'''\n",
    "Target Guided Ordinal Encoding is a technique used to encode categorical variables based on their relationship with the target variable. \n",
    "It involves assigning numerical values to each category based on the mean of the target variable for that category. \n",
    "This can be useful when the categorical variable has a significant impact on the target variable and when other encoding techniques like One-Hot Encoding or Label Encoding may not be appropriate.\n",
    "\n",
    "For example, suppose you have a dataset containing information about student performance, including a categorical variable \"Education Level\" with categories High School, Bachelor's, and Master's. \n",
    "You want to predict whether a student will graduate on time based on their education level. Instead of using One-Hot Encoding or Label Encoding, you could use Target Guided Ordinal Encoding, \n",
    "where the categories are assigned numerical values based on the mean graduation rate for each education level. The higher the mean graduation rate for a category, \n",
    "the higher the numerical value assigned to that category.\n",
    "'''"
   ]
  },
  {
   "cell_type": "markdown",
   "id": "64de5442-3768-46f7-bec2-137471bbb596",
   "metadata": {},
   "source": [
    "Q3. Define covariance and explain why it is important in statistical analysis. How is covariance calculated?"
   ]
  },
  {
   "cell_type": "code",
   "execution_count": 6,
   "id": "5f7e91cf-5135-406a-b985-82d82617ec28",
   "metadata": {},
   "outputs": [
    {
     "data": {
      "text/plain": [
       "'\\nCovariance is a measure of the degree to which two variables are linearly associated with each other. It is calculated as the expected\\nvalue of the product of the deviations of two random variables from their respective means.\\n\\nCovariance is important in statistical analysis because it helps in identifying the direction and strength of the relationship between two variables. \\nA positive covariance indicates that the two variables tend to increase or decrease together, while a negative covariance indicates that they tend to move in opposite directions.\\nA covariance of zero indicates that there is no linear relationship between the two variables.\\n'"
      ]
     },
     "execution_count": 6,
     "metadata": {},
     "output_type": "execute_result"
    }
   ],
   "source": [
    "# Answer:\n",
    "'''\n",
    "Covariance is a measure of the degree to which two variables are linearly associated with each other. It is calculated as the expected\n",
    "value of the product of the deviations of two random variables from their respective means.\n",
    "\n",
    "Covariance is important in statistical analysis because it helps in identifying the direction and strength of the relationship between two variables. \n",
    "A positive covariance indicates that the two variables tend to increase or decrease together, while a negative covariance indicates that they tend to move in opposite directions.\n",
    "A covariance of zero indicates that there is no linear relationship between the two variables.\n",
    "'''"
   ]
  },
  {
   "cell_type": "markdown",
   "id": "04b0d5aa-785e-4f6f-999c-9f2100537d26",
   "metadata": {},
   "source": [
    "Q4. For a dataset with the following categorical variables: Color (red, green, blue), Size (small, medium,\n",
    "large), and Material (wood, metal, plastic), perform label encoding using Python's scikit-learn library.\n",
    "Show your code and explain the output."
   ]
  },
  {
   "cell_type": "code",
   "execution_count": 7,
   "id": "f8a09e99-d6c7-4a67-9c74-9312b3f2cf17",
   "metadata": {},
   "outputs": [
    {
     "name": "stdout",
     "output_type": "stream",
     "text": [
      "   Color  Size  Material\n",
      "0      2     2         2\n",
      "1      1     1         0\n",
      "2      0     0         1\n",
      "3      2     1         1\n",
      "4      1     2         0\n"
     ]
    }
   ],
   "source": [
    "from sklearn.preprocessing import LabelEncoder\n",
    "import pandas as pd\n",
    "\n",
    "# Create a sample dataset\n",
    "data = {'Color': ['red', 'green', 'blue', 'red', 'green'],\n",
    "        'Size': ['small', 'medium', 'large', 'medium', 'small'],\n",
    "        'Material': ['wood', 'metal', 'plastic', 'plastic', 'metal']}\n",
    "\n",
    "df = pd.DataFrame(data)\n",
    "\n",
    "# Initialize a LabelEncoder object\n",
    "le = LabelEncoder()\n",
    "\n",
    "# Apply label encoding to each column in the dataset\n",
    "df['Color'] = le.fit_transform(df['Color'])\n",
    "df['Size'] = le.fit_transform(df['Size'])\n",
    "df['Material'] = le.fit_transform(df['Material'])\n",
    "\n",
    "# Print the encoded dataset\n",
    "print(df)\n"
   ]
  },
  {
   "cell_type": "markdown",
   "id": "148b4697-2a01-4a3d-844e-3ededff8dce4",
   "metadata": {},
   "source": [
    "Q5. Calculate the covariance matrix for the following variables in a dataset: Age, Income, and Education\n",
    "level. Interpret the results."
   ]
  },
  {
   "cell_type": "code",
   "execution_count": 8,
   "id": "fde0fe68-872e-41c7-8640-f76099dc0117",
   "metadata": {},
   "outputs": [
    {
     "name": "stdout",
     "output_type": "stream",
     "text": [
      "[[2.5e+02 5.0e+05 1.0e+02]\n",
      " [5.0e+05 1.0e+09 2.0e+05]\n",
      " [1.0e+02 2.0e+05 4.0e+01]]\n"
     ]
    }
   ],
   "source": [
    "import numpy as np\n",
    "\n",
    "# Create a dataset\n",
    "age = [25, 35, 45, 55, 65]\n",
    "income = [40000, 60000, 80000, 100000, 120000]\n",
    "education = [12, 16, 20, 24, 28]\n",
    "\n",
    "# Stack the variables into a matrix\n",
    "data = np.vstack((age, income, education)).T\n",
    "\n",
    "# Calculate the covariance matrix\n",
    "covariance_matrix = np.cov(data, rowvar=False)\n",
    "\n",
    "print(covariance_matrix)\n"
   ]
  },
  {
   "cell_type": "markdown",
   "id": "5e65860d-4ccb-4c9c-b28c-fa261974be84",
   "metadata": {},
   "source": [
    "Q6. You are working on a machine learning project with a dataset containing several categorical\n",
    "variables, including \"Gender\" (Male/Female), \"Education Level\" (High School/Bachelor's/Master's/PhD),\n",
    "and \"Employment Status\" (Unemployed/Part-Time/Full-Time). Which encoding method would you use for\n",
    "each variable, and why?"
   ]
  },
  {
   "cell_type": "code",
   "execution_count": 9,
   "id": "dbb96f35-9665-4e1a-9113-fd245f117c1f",
   "metadata": {},
   "outputs": [
    {
     "data": {
      "text/plain": [
       "\"\\nFor the given categorical variables, I would use the following encoding methods:\\n\\n1. Gender: Since gender has only two possible values (Male and Female), I would use binary encoding or label encoding to convert it into a numerical format. \\n    Binary encoding would create two columns, one for Male and another for Female, with values 0 or 1 indicating the absence or presence of that gender respectively. \\n    Label encoding would assign numerical labels to each category, such as 0 for Male and 1 for Female.\\n\\n2. Education Level: Education level has four possible values, and they have a natural order (High School < Bachelor's < Master's < PhD). \\n    Therefore, I would use ordinal encoding to convert the categories into numerical values while preserving the order of the categories.\\n\\n3. Employment Status: Employment status has three possible values, and they do not have a natural order. Therefore, I would use one-hot encoding to convert the categories into binary values. \\n    One-hot encoding would create three columns, one for each category, with values 0 or 1 indicating the absence or presence of that category respectively.\\n\""
      ]
     },
     "execution_count": 9,
     "metadata": {},
     "output_type": "execute_result"
    }
   ],
   "source": [
    "# Answer:\n",
    "'''\n",
    "For the given categorical variables, I would use the following encoding methods:\n",
    "\n",
    "1. Gender: Since gender has only two possible values (Male and Female), I would use binary encoding or label encoding to convert it into a numerical format. \n",
    "    Binary encoding would create two columns, one for Male and another for Female, with values 0 or 1 indicating the absence or presence of that gender respectively. \n",
    "    Label encoding would assign numerical labels to each category, such as 0 for Male and 1 for Female.\n",
    "\n",
    "2. Education Level: Education level has four possible values, and they have a natural order (High School < Bachelor's < Master's < PhD). \n",
    "    Therefore, I would use ordinal encoding to convert the categories into numerical values while preserving the order of the categories.\n",
    "\n",
    "3. Employment Status: Employment status has three possible values, and they do not have a natural order. Therefore, I would use one-hot encoding to convert the categories into binary values. \n",
    "    One-hot encoding would create three columns, one for each category, with values 0 or 1 indicating the absence or presence of that category respectively.\n",
    "'''"
   ]
  },
  {
   "cell_type": "markdown",
   "id": "d11755dc-e03c-431c-a8ea-451ee479aea6",
   "metadata": {},
   "source": [
    "Q7. You are analyzing a dataset with two continuous variables, \"Temperature\" and \"Humidity\", and two\n",
    "categorical variables, \"Weather Condition\" (Sunny/Cloudy/Rainy) and \"Wind Direction\" (North/South/\n",
    "East/West). Calculate the covariance between each pair of variables and interpret the results."
   ]
  },
  {
   "cell_type": "code",
   "execution_count": 10,
   "id": "c49e28b6-bf2c-41d1-9f79-cb72f1e0638b",
   "metadata": {},
   "outputs": [
    {
     "name": "stdout",
     "output_type": "stream",
     "text": [
      "[[11.3  26.25 -1.9  -2.45]\n",
      " [26.25 62.5  -3.75 -5.  ]\n",
      " [-1.9  -3.75  0.7   0.6 ]\n",
      " [-2.45 -5.    0.6   1.3 ]]\n"
     ]
    }
   ],
   "source": [
    "import numpy as np\n",
    "\n",
    "# Sample data\n",
    "temperature = [25, 28, 20, 22, 27]\n",
    "humidity = [70, 80, 60, 65, 75]\n",
    "weather_condition = [0, 1, 2, 1, 0]\n",
    "wind_direction = [0, 1, 2, 3, 1]\n",
    "\n",
    "# Create a 2D array from the data\n",
    "data = np.array([temperature, humidity, weather_condition, wind_direction])\n",
    "\n",
    "# Calculate the covariance matrix\n",
    "covariance_matrix = np.cov(data)\n",
    "\n",
    "print(covariance_matrix)\n"
   ]
  },
  {
   "cell_type": "code",
   "execution_count": null,
   "id": "21777ca2-ee55-47ce-9e85-480d122b9593",
   "metadata": {},
   "outputs": [],
   "source": []
  }
 ],
 "metadata": {
  "kernelspec": {
   "display_name": "Python 3 (ipykernel)",
   "language": "python",
   "name": "python3"
  },
  "language_info": {
   "codemirror_mode": {
    "name": "ipython",
    "version": 3
   },
   "file_extension": ".py",
   "mimetype": "text/x-python",
   "name": "python",
   "nbconvert_exporter": "python",
   "pygments_lexer": "ipython3",
   "version": "3.10.8"
  }
 },
 "nbformat": 4,
 "nbformat_minor": 5
}
