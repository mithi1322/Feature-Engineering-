{
 "cells": [
  {
   "cell_type": "markdown",
   "id": "b21886ec-cef3-48fe-93a0-8d03df357de5",
   "metadata": {},
   "source": [
    "Q1. What is the Filter method in feature selection, and how does it work?"
   ]
  },
  {
   "cell_type": "code",
   "execution_count": null,
   "id": "3d535adf-ae05-4ace-8885-0cac15d207e2",
   "metadata": {},
   "outputs": [],
   "source": [
    "# Answer:\n",
    "'''\n",
    "The Filter method is a feature selection technique that selects features based on their statistical properties, such as correlation with the target variable or variance. \n",
    "It works by ranking the features based on a predefined metric and selecting the top-ranked features. The selected features are then used as input for the machine learning algorithm.\n",
    "'''"
   ]
  },
  {
   "cell_type": "markdown",
   "id": "c47efb00-5cee-4ff0-9bf9-0dfa6518a7cb",
   "metadata": {},
   "source": [
    "Q2. How does the Wrapper method differ from the Filter method in feature selection?"
   ]
  },
  {
   "cell_type": "code",
   "execution_count": null,
   "id": "719b0d97-2dca-464a-a6d0-370fbddb45e3",
   "metadata": {},
   "outputs": [],
   "source": [
    "# Answer:\n",
    "'''\n",
    "The Wrapper method differs from the Filter method in that it selects features by iteratively evaluating different subsets of features using a machine learning algorithm. \n",
    "It works by selecting a subset of features, training a model, and evaluating its performance. The process is repeated for all possible subsets of features, \n",
    "and the best subset is selected based on the model's performance.\n",
    "'''"
   ]
  },
  {
   "cell_type": "markdown",
   "id": "a76c63fe-db06-477a-be6a-a7223a97bdf3",
   "metadata": {},
   "source": [
    "Q3. What are some common techniques used in Embedded feature selection methods?"
   ]
  },
  {
   "cell_type": "code",
   "execution_count": null,
   "id": "fae08964-46ef-4432-a1bd-4551eccee983",
   "metadata": {},
   "outputs": [],
   "source": [
    "# Answer:\n",
    "'''\n",
    "Common techniques used in Embedded feature selection methods include Lasso regression, Ridge regression, and Elastic Net regression. \n",
    "These methods add a regularization term to the objective function of the machine learning algorithm, which penalizes the coefficients of the features that are not important for the model.\n",
    "'''"
   ]
  },
  {
   "cell_type": "markdown",
   "id": "fce6f709-2d37-440b-b3d4-ed52dd6af717",
   "metadata": {},
   "source": [
    "Q4. What are some drawbacks of using the Filter method for feature selection?"
   ]
  },
  {
   "cell_type": "code",
   "execution_count": null,
   "id": "cfac3133-cc19-4675-9baa-c1f19e1d68e2",
   "metadata": {},
   "outputs": [],
   "source": [
    "# Answer:\n",
    "'''\n",
    " Some drawbacks of using the Filter method for feature selection include its inability to handle feature interactions and its inability to select features based on their importance for the model. \n",
    " The Filter method also assumes that the selected features are independent of each other, which may not be the case in some datasets.\n",
    " '''"
   ]
  },
  {
   "cell_type": "markdown",
   "id": "05e213ce-4b15-4980-83f0-ee1527195f53",
   "metadata": {},
   "source": [
    "Q5. In which situations would you prefer using the Filter method over the Wrapper method for feature\n",
    "selection?"
   ]
  },
  {
   "cell_type": "code",
   "execution_count": null,
   "id": "c2714a06-daf0-46e9-9ed5-90d980bb6fdd",
   "metadata": {},
   "outputs": [],
   "source": [
    "# Answer:\n",
    "'''\n",
    "The Filter method is preferred over the Wrapper method in situations where the dataset has a large number of features, and it is computationally expensive to evaluate all possible subsets of features.\n",
    "The Filter method is also faster and less prone to overfitting than the Wrapper method.\n",
    "'''"
   ]
  },
  {
   "cell_type": "markdown",
   "id": "1d9e15bd-796e-4049-86d8-0b0e3f472f4f",
   "metadata": {},
   "source": [
    "Q6. In a telecom company, you are working on a project to develop a predictive model for customer churn.\n",
    "You are unsure of which features to include in the model because the dataset contains several different\n",
    "ones. Describe how you would choose the most pertinent attributes for the model using the Filter Method."
   ]
  },
  {
   "cell_type": "code",
   "execution_count": null,
   "id": "6d2dffc9-3193-4be2-95c4-6271ba2e5649",
   "metadata": {},
   "outputs": [],
   "source": [
    "# Answer:\n",
    "'''\n",
    "To choose the most pertinent attributes for the predictive model using the Filter method, one can start by computing the correlation between each feature and the target variable. \n",
    "Features with low correlation can be eliminated, and the remaining features can be ranked based on their correlation with the target variable or their variance.\n",
    "'''"
   ]
  },
  {
   "cell_type": "markdown",
   "id": "9b4dc0b6-be7e-4503-8838-c69c7397336a",
   "metadata": {},
   "source": [
    "Q7. You are working on a project to predict the outcome of a soccer match. You have a large dataset with\n",
    "many features, including player statistics and team rankings. Explain how you would use the Embedded\n",
    "method to select the most relevant features for the model."
   ]
  },
  {
   "cell_type": "code",
   "execution_count": null,
   "id": "84f4424a-5377-4efc-a9a6-fccb6c97d952",
   "metadata": {},
   "outputs": [],
   "source": [
    "# Answer:\n",
    "'''\n",
    "To use the Embedded method to select the most relevant features for the soccer match prediction model, one can start by training a machine learning algorithm using all available features. \n",
    "The coefficients of the features can then be used to rank the features based on their importance. Features with low coefficients can be eliminated, \n",
    "and the process can be repeated until the desired level of performance is achieved.\n",
    "'''"
   ]
  },
  {
   "cell_type": "markdown",
   "id": "a6a833ed-376e-4922-a450-e754dfcd57f5",
   "metadata": {},
   "source": [
    "Q8. You are working on a project to predict the price of a house based on its features, such as size, location,\n",
    "and age. You have a limited number of features, and you want to ensure that you select the most important\n",
    "ones for the model. Explain how you would use the Wrapper method to select the best set of features for the\n",
    "predictor."
   ]
  },
  {
   "cell_type": "code",
   "execution_count": null,
   "id": "230637d1-ad4b-4cb4-a7b7-c265ac752ef8",
   "metadata": {},
   "outputs": [],
   "source": [
    "# Answer:\n",
    "'''\n",
    " To use the Wrapper method to select the best set of features for the house price prediction model, one can start by selecting a subset of features and training a model using them. \n",
    " The performance of the model can then be evaluated using a cross-validation technique. The process can be repeated for all possible subsets of features, a\n",
    " nd the best subset can be selected based on the model's performance. This approach can be computationally expensive, but it ensures that the selected features are optimal for the model.\n",
    " '''"
   ]
  },
  {
   "cell_type": "code",
   "execution_count": null,
   "id": "9f13f102-8eb3-4444-be40-70d9dc4b17e5",
   "metadata": {},
   "outputs": [],
   "source": []
  }
 ],
 "metadata": {
  "kernelspec": {
   "display_name": "Python 3 (ipykernel)",
   "language": "python",
   "name": "python3"
  },
  "language_info": {
   "codemirror_mode": {
    "name": "ipython",
    "version": 3
   },
   "file_extension": ".py",
   "mimetype": "text/x-python",
   "name": "python",
   "nbconvert_exporter": "python",
   "pygments_lexer": "ipython3",
   "version": "3.10.8"
  }
 },
 "nbformat": 4,
 "nbformat_minor": 5
}
